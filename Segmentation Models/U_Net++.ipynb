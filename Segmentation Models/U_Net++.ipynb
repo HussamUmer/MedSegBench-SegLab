{
  "nbformat": 4,
  "nbformat_minor": 0,
  "metadata": {
    "colab": {
      "provenance": []
    },
    "kernelspec": {
      "name": "python3",
      "display_name": "Python 3"
    },
    "language_info": {
      "name": "python"
    }
  },
  "cells": [
    {
      "cell_type": "code",
      "execution_count": null,
      "metadata": {
        "id": "aSHvGCGDoevm"
      },
      "outputs": [],
      "source": [
        "# ------------------------------------------------------------\n",
        "# STEP 6C — U-Net (R34, ImageNet encoder) — PAPER BASELINE\n",
        "# Cell 1/4 — Imports & tiny wrapper to keep API consistent\n",
        "# ------------------------------------------------------------\n",
        "import torch\n",
        "import torch.nn as nn\n",
        "import torch.nn.functional as F\n",
        "import segmentation_models_pytorch as smp\n",
        "\n",
        "class SMPWrap(nn.Module):\n",
        "    \"\"\"Wrap an SMP model so forward(x) -> {'logits': (B,1,H,W)}\"\"\"\n",
        "    def __init__(self, core: nn.Module):\n",
        "        super().__init__()\n",
        "        self.core = core\n",
        "    def forward(self, x):\n",
        "        logits = self.core(x)              # raw logits from SMP (activation=None)\n",
        "        if isinstance(logits, (list, tuple)):\n",
        "            logits = logits[0]\n",
        "        return {\"logits\": logits}\n"
      ]
    },
    {
      "cell_type": "code",
      "source": [
        "# ------------------------------------------------------------\n",
        "# STEP 6C — U-Net++ definition (R34 encoder, nested skips)\n",
        "# ------------------------------------------------------------\n",
        "# Cell 2/4 — Imports & tiny wrapper to keep API consistent\n",
        "# ------------------------------------------------------------\n",
        "def build_unetpp_r34_binary():\n",
        "    model = smp.UnetPlusPlus(\n",
        "        encoder_name=\"resnet34\",\n",
        "        encoder_weights=\"imagenet\",\n",
        "        in_channels=3,\n",
        "        classes=1,\n",
        "        activation=None\n",
        "    )\n",
        "    return SMPWrap(model)\n"
      ],
      "metadata": {
        "id": "ZODe_VCFoz-a"
      },
      "execution_count": null,
      "outputs": []
    },
    {
      "cell_type": "code",
      "source": [
        "# ------------------------------------------------------------\n",
        "# STEP 6C — Instantiate & check\n",
        "# ------------------------------------------------------------\n",
        "# Cell 3/4 — Imports & tiny wrapper to keep API consistent\n",
        "# ------------------------------------------------------------\n",
        "unetpp_r34_model = build_unetpp_r34_binary()\n",
        "xb, yb = next(iter(train_loader))\n",
        "out = unetpp_r34_model(xb)\n",
        "print(\"U-Net++ (R34) logits:\", tuple(out[\"logits\"].shape))\n"
      ],
      "metadata": {
        "id": "WI7Vo-9io2bM"
      },
      "execution_count": null,
      "outputs": []
    },
    {
      "cell_type": "code",
      "source": [
        "# ------------------------------------------------------------\n",
        "# STEP 6C — Params\n",
        "# ------------------------------------------------------------\n",
        "# Cell 4/4 — Imports & tiny wrapper to keep API consistent\n",
        "# ------------------------------------------------------------\n",
        "num_params = sum(p.numel() for p in unetpp_r34_model.parameters() if p.requires_grad)\n",
        "print(f\"[PARAMS] U-Net++ (R34): {num_params/1e6:.2f} M\")\n"
      ],
      "metadata": {
        "id": "IMXx-7N9pC-7"
      },
      "execution_count": null,
      "outputs": []
    }
  ]
}